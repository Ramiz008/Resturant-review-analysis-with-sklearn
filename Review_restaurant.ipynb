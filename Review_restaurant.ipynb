{
 "cells": [
  {
   "cell_type": "code",
   "execution_count": 1,
   "id": "01ab0cd0-bceb-4e73-a2c2-34d704e549dd",
   "metadata": {},
   "outputs": [],
   "source": [
    "import pandas as pd\n",
    "import re\n",
    "from sklearn.feature_extraction.text import ENGLISH_STOP_WORDS\n",
    "from sklearn.feature_extraction.text import CountVectorizer\n",
    "from sklearn.ensemble import RandomForestClassifier"
   ]
  },
  {
   "cell_type": "code",
   "execution_count": 2,
   "id": "aa76e646-d20c-4084-8ba7-498f0d990c1d",
   "metadata": {},
   "outputs": [
    {
     "name": "stdin",
     "output_type": "stream",
     "text": [
      "Enter your review: aWesome food\n"
     ]
    },
    {
     "name": "stdout",
     "output_type": "stream",
     "text": [
      "You liked our food :-)\n"
     ]
    }
   ],
   "source": [
    "df=pd.read_csv(\"d:/dataset/Restaurant_Reviews.txt\",sep=\"\\t\") #give the path\n",
    "corpus=df.Review\n",
    "target=df.Liked\n",
    "\n",
    "engswds=list(ENGLISH_STOP_WORDS)\n",
    "engswds.remove(\"not\") #remove the \"not\" from stop words cos its imp word for review\n",
    "\n",
    "def cleaning(doc):\n",
    "    doc=doc.lower()\n",
    "    new_doc=re.sub(\"[^a-z]\",\" \",doc)\n",
    "    wordslist=new_doc.split()\n",
    "    new_doc=\" \"\n",
    "    for words in wordslist:\n",
    "        if words not in engswds:\n",
    "            new_doc=new_doc+words+\" \"\n",
    "    return new_doc.strip()\n",
    "\n",
    "corpus_new=(list(map(cleaning,corpus)))\n",
    "\n",
    "cv=CountVectorizer()\n",
    "X=cv.fit_transform(corpus).toarray()\n",
    "\n",
    "model=RandomForestClassifier()\n",
    "model.fit(X,target)\n",
    "\n",
    "r=input(\"Enter your review:\")\n",
    "sample=cleaning(r)\n",
    "test=cv.transform([sample])\n",
    "review=model.predict_proba(test)\n",
    "if review[0][1]>.5:\n",
    "    print('You liked our food :-)')\n",
    "else:\n",
    "    print('You didnt like our food :-(')"
   ]
  },
  {
   "cell_type": "code",
   "execution_count": null,
   "id": "4a405040-6703-4ddc-9bb5-6a9ada807fa9",
   "metadata": {},
   "outputs": [],
   "source": []
  }
 ],
 "metadata": {
  "kernelspec": {
   "display_name": "Python 3 (ipykernel)",
   "language": "python",
   "name": "python3"
  },
  "language_info": {
   "codemirror_mode": {
    "name": "ipython",
    "version": 3
   },
   "file_extension": ".py",
   "mimetype": "text/x-python",
   "name": "python",
   "nbconvert_exporter": "python",
   "pygments_lexer": "ipython3",
   "version": "3.10.9"
  }
 },
 "nbformat": 4,
 "nbformat_minor": 5
}
